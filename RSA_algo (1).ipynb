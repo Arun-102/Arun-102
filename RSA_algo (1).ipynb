{
 "cells": [
  {
   "cell_type": "code",
   "execution_count": 14,
   "id": "238848d6",
   "metadata": {},
   "outputs": [
    {
     "name": "stdout",
     "output_type": "stream",
     "text": [
      "p = 3\n",
      "q = 11\n",
      "e = 9\n",
      "message = 30\n",
      "n =  33\n",
      "Euler is = 20\n",
      "enc key is =  9\n",
      "dec key is =  0.1111111111111111\n",
      "enc message is =  18.0\n",
      "dec message is =  29.999999999999993\n"
     ]
    }
   ],
   "source": [
    "import math\n",
    "\n",
    "def RSA():\n",
    "    p = int(input(\"p = \"))\n",
    "    q = int(input(\"q = \"))\n",
    "    n = p * q\n",
    "    fi = (p-1)*(q-1)\n",
    "    \n",
    "    e = int(input(\"e = \"))\n",
    "    t=0\n",
    "    while(e<fi):\n",
    "        t = math.gcd(e,fi)\n",
    "        if t == 1:\n",
    "            break\n",
    "        else:\n",
    "            e=e+1\n",
    "            \n",
    "    d1 = pow(e,-1)\n",
    "    d = math.fmod(d1,fi)\n",
    "    \n",
    "    message = int(input(\"message = \"))\n",
    "    c = pow(message , e)\n",
    "    m = pow(c , d)\n",
    "    c = math.fmod(c , n)\n",
    "    m = math.fmod(m , n)\n",
    "    \n",
    "    print(\"n = \", n)\n",
    "    print(\"Euler is =\", fi)\n",
    "    print(\"enc key is = \", e)\n",
    "    print(\"dec key is = \", d)\n",
    "    print(\"enc message is = \", c)\n",
    "    print(\"dec message is = \", m)\n",
    "    \n",
    "RSA()"
   ]
  },
  {
   "cell_type": "code",
   "execution_count": null,
   "id": "9f22a46c",
   "metadata": {},
   "outputs": [],
   "source": []
  }
 ],
 "metadata": {
  "kernelspec": {
   "display_name": "Python 3 (ipykernel)",
   "language": "python",
   "name": "python3"
  },
  "language_info": {
   "codemirror_mode": {
    "name": "ipython",
    "version": 3
   },
   "file_extension": ".py",
   "mimetype": "text/x-python",
   "name": "python",
   "nbconvert_exporter": "python",
   "pygments_lexer": "ipython3",
   "version": "3.10.4"
  }
 },
 "nbformat": 4,
 "nbformat_minor": 5
}
